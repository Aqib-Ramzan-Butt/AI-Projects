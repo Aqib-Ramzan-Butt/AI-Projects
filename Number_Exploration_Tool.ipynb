{
  "nbformat": 4,
  "nbformat_minor": 0,
  "metadata": {
    "colab": {
      "provenance": [],
      "authorship_tag": "ABX9TyMPzyr9wU6VaWBYkjb65bFu",
      "include_colab_link": true
    },
    "kernelspec": {
      "name": "python3",
      "display_name": "Python 3"
    },
    "language_info": {
      "name": "python"
    }
  },
  "cells": [
    {
      "cell_type": "markdown",
      "metadata": {
        "id": "view-in-github",
        "colab_type": "text"
      },
      "source": [
        "<a href=\"https://colab.research.google.com/github/Aqib-Ramzan-Butt/AI-Projects/blob/main/Number_Exploration_Tool.ipynb\" target=\"_parent\"><img src=\"https://colab.research.google.com/assets/colab-badge.svg\" alt=\"Open In Colab\"/></a>"
      ]
    },
    {
      "cell_type": "markdown",
      "source": [
        "# Python Programming Assignment: Number Exploration Tool\n"
      ],
      "metadata": {
        "id": "1N6qo8RS-47q"
      }
    },
    {
      "cell_type": "code",
      "source": [
        "def is_prime(number):\n",
        "    \"\"\"Check if a number is a prime.\"\"\"\n",
        "    if number <= 1:\n",
        "        return False\n",
        "    for i in range(2, int(number**0.5) + 1):\n",
        "        if number % i == 0:\n",
        "            return False\n",
        "    return True\n",
        "\n",
        "def main():\n",
        "    # Prompt the user for their name and favorite numbers\n",
        "    name = input(\"Enter your name: \")\n",
        "    print(\"Hello, \" + name + \"! Let's explore your favorite numbers.\")\n",
        "\n",
        "    favorite_numbers = []\n",
        "    for i in range(1, 4):\n",
        "        num = int(input(f\"Enter your favorite number {i}: \"))\n",
        "        favorite_numbers.append(num)\n",
        "\n",
        "    # Check if numbers are even or odd\n",
        "    even_odd_list = [(num, \"even\" if num % 2 == 0 else \"odd\") for num in favorite_numbers]\n",
        "\n",
        "    # Display whether each number is even or odd\n",
        "    for num, eo in even_odd_list:\n",
        "        print(f\"The number {num} is {eo}.\")\n",
        "\n",
        "    # Generate and display tuples of numbers and their squares\n",
        "    print(\"\\nHere's something fun:\")\n",
        "    for num in favorite_numbers:\n",
        "        print(f\"The number {num} and its square: ({num}, {num ** 2})\")\n",
        "\n",
        "    # Calculate and display the sum of the numbers\n",
        "    total_sum = sum(favorite_numbers)\n",
        "    print(f\"\\nAmazing! The sum of your favorite numbers is: {total_sum}\")\n",
        "\n",
        "    # Check if the sum is a prime number\n",
        "    if is_prime(total_sum):\n",
        "        print(f\"Wow, {total_sum} is a prime number!\")\n",
        "    else:\n",
        "        print(f\"The sum {total_sum} is not a prime number.\")\n",
        "\n",
        "# Run the program\n",
        "if __name__ == \"__main__\":\n",
        "    main()\n"
      ],
      "metadata": {
        "colab": {
          "base_uri": "https://localhost:8080/"
        },
        "id": "dIfzCGpk_ymF",
        "outputId": "e3a12eaa-7f4f-4a5b-dd31-5682bbc2134c"
      },
      "execution_count": 2,
      "outputs": [
        {
          "output_type": "stream",
          "name": "stdout",
          "text": [
            "Enter your name: Aqib\n",
            "Hello, Aqib! Let's explore your favorite numbers.\n",
            "Enter your favorite number 1: 5\n",
            "Enter your favorite number 2: 6\n",
            "Enter your favorite number 3: 2\n",
            "The number 5 is odd.\n",
            "The number 6 is even.\n",
            "The number 2 is even.\n",
            "\n",
            "Here's something fun:\n",
            "The number 5 and its square: (5, 25)\n",
            "The number 6 and its square: (6, 36)\n",
            "The number 2 and its square: (2, 4)\n",
            "\n",
            "Amazing! The sum of your favorite numbers is: 13\n",
            "Wow, 13 is a prime number!\n"
          ]
        }
      ]
    },
    {
      "cell_type": "code",
      "source": [],
      "metadata": {
        "id": "dzR58dMI_zMK"
      },
      "execution_count": 2,
      "outputs": []
    }
  ]
}