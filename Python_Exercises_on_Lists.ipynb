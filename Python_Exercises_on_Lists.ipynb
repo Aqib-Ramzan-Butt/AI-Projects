{
  "nbformat": 4,
  "nbformat_minor": 0,
  "metadata": {
    "colab": {
      "provenance": [],
      "authorship_tag": "ABX9TyOW0WeQrleZFSzARozOjESX",
      "include_colab_link": true
    },
    "kernelspec": {
      "name": "python3",
      "display_name": "Python 3"
    },
    "language_info": {
      "name": "python"
    }
  },
  "cells": [
    {
      "cell_type": "markdown",
      "metadata": {
        "id": "view-in-github",
        "colab_type": "text"
      },
      "source": [
        "<a href=\"https://colab.research.google.com/github/Aqib-Ramzan-Butt/AI-Projects/blob/main/Python_Exercises_on_Lists.ipynb\" target=\"_parent\"><img src=\"https://colab.research.google.com/assets/colab-badge.svg\" alt=\"Open In Colab\"/></a>"
      ]
    },
    {
      "cell_type": "markdown",
      "source": [
        "# Python Exercises on Lists"
      ],
      "metadata": {
        "id": "1N6qo8RS-47q"
      }
    },
    {
      "cell_type": "markdown",
      "source": [
        "##Exercise 3-1: Names\n",
        "\n",
        "● Task: Store the names of a few of your friends in a list called names. Print each person’s\n",
        "name by accessing each element in the list, one at a time."
      ],
      "metadata": {
        "id": "8J1_8hSQSX2U"
      }
    },
    {
      "cell_type": "code",
      "source": [
        "names = [\"Alice\", \"Bob\", \"Charlie\"]\n",
        "for name in names:\n",
        "    print(name)"
      ],
      "metadata": {
        "colab": {
          "base_uri": "https://localhost:8080/"
        },
        "id": "kN8AZ6bmP1Cz",
        "outputId": "4f68b7a1-ef23-43fc-8afe-04283ff4371b"
      },
      "execution_count": 24,
      "outputs": [
        {
          "output_type": "stream",
          "name": "stdout",
          "text": [
            "Alice\n",
            "Bob\n",
            "Charlie\n"
          ]
        }
      ]
    },
    {
      "cell_type": "markdown",
      "source": [
        "##Exercise 3-2: Greetings\n",
        "\n",
        "● Task: Start with the list you used in Exercise 3-1. Instead of just printing each person’s\n",
        "name, print a message to them. The text of each message should be the same, but each\n",
        "message should be personalized with the person’s name."
      ],
      "metadata": {
        "id": "PA7A1TP6SsuM"
      }
    },
    {
      "cell_type": "code",
      "source": [
        "for name in names:\n",
        "    print(f\"Hello, {name}! I hope you're having a great day!\")"
      ],
      "metadata": {
        "colab": {
          "base_uri": "https://localhost:8080/"
        },
        "id": "HzWSBhccP0nG",
        "outputId": "64f289bc-3e41-4b4a-cf50-dd06b0fd6c60"
      },
      "execution_count": 25,
      "outputs": [
        {
          "output_type": "stream",
          "name": "stdout",
          "text": [
            "Hello, Alice! I hope you're having a great day!\n",
            "Hello, Bob! I hope you're having a great day!\n",
            "Hello, Charlie! I hope you're having a great day!\n"
          ]
        }
      ]
    },
    {
      "cell_type": "markdown",
      "source": [
        "##Exercise 3-3: Your Own List\n",
        "● Task: Think of your favorite mode of transportation, such as a motorcycle or a car, and\n",
        "make a list that stores several examples. Use your list to print a series of statements\n",
        "about these items, such as “I would like to own a Honda motorcycle.”"
      ],
      "metadata": {
        "id": "0OTnej5TTB2N"
      }
    },
    {
      "cell_type": "code",
      "source": [
        "modes_of_transport = [\"motorcycle\", \"car\", \"bicycle\"]\n",
        "for mode in modes_of_transport:\n",
        "    print(f\"I would like to own a {mode}.\")"
      ],
      "metadata": {
        "colab": {
          "base_uri": "https://localhost:8080/"
        },
        "id": "iNzuPBZgP9og",
        "outputId": "c4b6dac4-c30b-4de2-8b1e-372f5ce61757"
      },
      "execution_count": 26,
      "outputs": [
        {
          "output_type": "stream",
          "name": "stdout",
          "text": [
            "I would like to own a motorcycle.\n",
            "I would like to own a car.\n",
            "I would like to own a bicycle.\n"
          ]
        }
      ]
    },
    {
      "cell_type": "markdown",
      "source": [
        "##Exercise 3-4: Guest List\n",
        "\n",
        "● Task: If you could invite anyone, living or deceased, to dinner, who would you invite?\n",
        "Make a list that includes at least three people you’d like to invite to dinner. Then use your\n",
        "list to print a message to each person, inviting them to dinner."
      ],
      "metadata": {
        "id": "HjCqXpF3TSmu"
      }
    },
    {
      "cell_type": "code",
      "source": [
        "guest_list = [\"Ali\", \"Ahmad\", \"Ahsan\"]\n",
        "for guest in guest_list:\n",
        "    print(f\"Dear {guest}, you are invited to a special dinner party!\")"
      ],
      "metadata": {
        "colab": {
          "base_uri": "https://localhost:8080/"
        },
        "id": "ecv7g8YuP9hx",
        "outputId": "ed4b18b0-bc2b-4770-d356-49b3ff2a2f9a"
      },
      "execution_count": 27,
      "outputs": [
        {
          "output_type": "stream",
          "name": "stdout",
          "text": [
            "Dear Ali, you are invited to a special dinner party!\n",
            "Dear Ahmad, you are invited to a special dinner party!\n",
            "Dear Ahsan, you are invited to a special dinner party!\n"
          ]
        }
      ]
    },
    {
      "cell_type": "markdown",
      "source": [
        "##Exercise 3-5: Changing Guest List\n",
        "\n",
        "● Task: Start with your program from Exercise 3-4. Add a print() call at the end of your\n",
        "program, stating the name of the guest who can’t make it. Modify your list, replacing the\n",
        "name of the guest who can’t make it with the name of the new person you are inviting.\n",
        "Print a second set of invitation messages, one for each person who is still in your list."
      ],
      "metadata": {
        "id": "aQMNdxq1TaHW"
      }
    },
    {
      "cell_type": "code",
      "source": [
        "print(f\"\\nUnfortunately, {guest_list[2]} can't make it.\")\n",
        "guest_list[2] = \"Burhan\"\n",
        "for guest in guest_list:\n",
        "    print(f\"Dear {guest}, you are still invited to a special dinner party!\")"
      ],
      "metadata": {
        "colab": {
          "base_uri": "https://localhost:8080/"
        },
        "id": "V63iuUmuP9ee",
        "outputId": "82a1a160-631f-46ea-e240-9af7bd6253d7"
      },
      "execution_count": 28,
      "outputs": [
        {
          "output_type": "stream",
          "name": "stdout",
          "text": [
            "\n",
            "Unfortunately, Ahsan can't make it.\n",
            "Dear Ali, you are still invited to a special dinner party!\n",
            "Dear Ahmad, you are still invited to a special dinner party!\n",
            "Dear Burhan, you are still invited to a special dinner party!\n"
          ]
        }
      ]
    },
    {
      "cell_type": "markdown",
      "source": [
        "##Exercise 3-6: More Guests\n",
        "\n",
        "● Task: Start with your program from Exercise 3-4 or 3-5. Add a print() call to the end\n",
        "of your program, informing people that you found a bigger table. Use insert() to add\n",
        "one new guest to the beginning of your list. Use insert() to add one new guest to the\n",
        "middle of your list. Use append() to add one new guest to the end of your list. Print a\n",
        "new set of invitation messages, one for each person in your list."
      ],
      "metadata": {
        "id": "u7Fm8QbeTrEH"
      }
    },
    {
      "cell_type": "code",
      "source": [
        "# Exercise 3-6: More Guests\n",
        "print(\"\\nExercise 3-6: More Guests\")\n",
        "print(\"\\nGreat news! We found a bigger table!\")\n",
        "guest_list.insert(0, \"Shahzaib\")\n",
        "guest_list.insert(2, \"Sohail\")\n",
        "guest_list.append(\"Umair\")\n",
        "for guest in guest_list:\n",
        "    print(f\"Dear {guest}, you're invited to a special dinner party!\")"
      ],
      "metadata": {
        "colab": {
          "base_uri": "https://localhost:8080/"
        },
        "id": "OkqJwWVPQJ1x",
        "outputId": "33f6dcb8-b706-4c35-ee8a-314d629fc98e"
      },
      "execution_count": 29,
      "outputs": [
        {
          "output_type": "stream",
          "name": "stdout",
          "text": [
            "\n",
            "Exercise 3-6: More Guests\n",
            "\n",
            "Great news! We found a bigger table!\n",
            "Dear Shahzaib, you're invited to a special dinner party!\n",
            "Dear Ali, you're invited to a special dinner party!\n",
            "Dear Sohail, you're invited to a special dinner party!\n",
            "Dear Ahmad, you're invited to a special dinner party!\n",
            "Dear Burhan, you're invited to a special dinner party!\n",
            "Dear Umair, you're invited to a special dinner party!\n"
          ]
        }
      ]
    },
    {
      "cell_type": "markdown",
      "source": [
        "##Exercise 3-7: Shrinking Guest List\n",
        "\n",
        "● Task: Start with your program from Exercise 3-6. Add a new line that prints a message\n",
        "saying that you can invite only two people for dinner. Use pop() to remove guests from\n",
        "your list one at a time until only two names remain in your list. Each time you pop a\n",
        "name from your list, print a message to that person letting them know you’re sorry you\n",
        "can’t invite them to dinner. Print a message to each of the two people still on your list,\n",
        "letting them know they’re still invited. Use del to remove the last two names from your\n",
        "list, so you have an empty list. Print your list to make sure you actually have an empty\n",
        "list at the end of your program."
      ],
      "metadata": {
        "id": "W1_mzKElURt4"
      }
    },
    {
      "cell_type": "code",
      "source": [
        "print(\"\\nUnfortunately, we can only invite two people to the dinner.\")\n",
        "while len(guest_list) > 2:\n",
        "    removed_guest = guest_list.pop()\n",
        "    print(f\"Sorry, {removed_guest}, we can't invite you to dinner.\")\n",
        "for guest in guest_list:\n",
        "    print(f\"Dear {guest}, you are still invited to the dinner!\")\n",
        "guest_list.clear()\n",
        "print(f\"Guest list is now empty: {guest_list}\")"
      ],
      "metadata": {
        "colab": {
          "base_uri": "https://localhost:8080/"
        },
        "id": "l0xuowA6QJx4",
        "outputId": "dcdfbf71-5299-4b9e-9f9b-0a520c1306eb"
      },
      "execution_count": 30,
      "outputs": [
        {
          "output_type": "stream",
          "name": "stdout",
          "text": [
            "\n",
            "Unfortunately, we can only invite two people to the dinner.\n",
            "Sorry, Umair, we can't invite you to dinner.\n",
            "Sorry, Burhan, we can't invite you to dinner.\n",
            "Sorry, Ahmad, we can't invite you to dinner.\n",
            "Sorry, Sohail, we can't invite you to dinner.\n",
            "Dear Shahzaib, you are still invited to the dinner!\n",
            "Dear Ali, you are still invited to the dinner!\n",
            "Guest list is now empty: []\n"
          ]
        }
      ]
    },
    {
      "cell_type": "markdown",
      "source": [
        "##Exercise 3-8: Seeing the World\n",
        "\n",
        "● Task: Think of at least five places in the world you’d like to visit. Store the locations in a\n",
        "list. Make sure the list is not in alphabetical order. Print your list in its original order. Don’t\n",
        "worry about printing the list neatly; just print it as a raw Python list. Use sorted() to\n",
        "print your list in alphabetical order without modifying the actual list. Show that your list is\n",
        "still in its original order by printing it. Use sorted() to print your list in\n",
        "reverse-alphabetical order without changing the order of the original list. Show that your\n",
        "list is still in its original order by printing it again. Use reverse() to change the order of\n",
        "your list. Print the list to show that its order has changed. Use reverse() to change the\n",
        "order of your list again. Print the list to show it’s back to its original order. Use sort() to\n",
        "change your list so it’s stored in alphabetical order. Print the list to show that its order\n",
        "has been changed. Use sort() to change your list so it’s stored in reverse-alphabetical\n",
        "order. Print the list to show that its order has changed."
      ],
      "metadata": {
        "id": "uCipjzQkUij-"
      }
    },
    {
      "cell_type": "code",
      "source": [
        "places = [\"Japan\", \"Norway\", \"Australia\", \"Iceland\", \"Italy\"]\n",
        "print(\"\\nOriginal list:\", places)\n",
        "print(\"Alphabetical order:\", sorted(places))\n",
        "print(\"Original list after sorted():\", places)\n",
        "print(\"Reverse alphabetical order:\", sorted(places, reverse=True))\n",
        "print(\"Original list after reverse sorted():\", places)\n",
        "places.reverse()\n",
        "print(\"List after reverse():\", places)\n",
        "places.reverse()\n",
        "print(\"List after reversing again:\", places)\n",
        "places.sort()\n",
        "print(\"List after sort():\", places)\n",
        "places.sort(reverse=True)\n",
        "print(\"List after reverse sort():\", places)"
      ],
      "metadata": {
        "colab": {
          "base_uri": "https://localhost:8080/"
        },
        "id": "UhZbuWjDQSVm",
        "outputId": "3dce2030-b1f0-4403-cda8-50483a7a5b97"
      },
      "execution_count": 31,
      "outputs": [
        {
          "output_type": "stream",
          "name": "stdout",
          "text": [
            "\n",
            "Original list: ['Japan', 'Norway', 'Australia', 'Iceland', 'Italy']\n",
            "Alphabetical order: ['Australia', 'Iceland', 'Italy', 'Japan', 'Norway']\n",
            "Original list after sorted(): ['Japan', 'Norway', 'Australia', 'Iceland', 'Italy']\n",
            "Reverse alphabetical order: ['Norway', 'Japan', 'Italy', 'Iceland', 'Australia']\n",
            "Original list after reverse sorted(): ['Japan', 'Norway', 'Australia', 'Iceland', 'Italy']\n",
            "List after reverse(): ['Italy', 'Iceland', 'Australia', 'Norway', 'Japan']\n",
            "List after reversing again: ['Japan', 'Norway', 'Australia', 'Iceland', 'Italy']\n",
            "List after sort(): ['Australia', 'Iceland', 'Italy', 'Japan', 'Norway']\n",
            "List after reverse sort(): ['Norway', 'Japan', 'Italy', 'Iceland', 'Australia']\n"
          ]
        }
      ]
    },
    {
      "cell_type": "markdown",
      "source": [
        "##Exercise 3-9: Every Function\n",
        "\n",
        "● Task: Think of things you could store in a list. For example, you could make a list of\n",
        "mountains, rivers, countries, cities, languages, or anything else you’d like. Write a\n",
        "program that creates a list containing these items and then uses each function\n",
        "introduced in this chapter at least once."
      ],
      "metadata": {
        "id": "5x1PMVB9Ust-"
      }
    },
    {
      "cell_type": "code",
      "source": [
        "languages = [\"Python\", \"JavaScript\", \"C++\", \"Java\", \"Ruby\"]\n",
        "print(\"\\nOriginal list:\", languages)\n",
        "languages.append(\"Swift\")\n",
        "print(\"After append():\", languages)\n",
        "languages.insert(2, \"Go\")\n",
        "print(\"After insert():\", languages)\n",
        "del languages[2]\n",
        "print(\"After del:\", languages)\n",
        "popped_language = languages.pop()\n",
        "print(\"After pop():\", languages, \"| Popped:\", popped_language)\n",
        "languages.remove(\"Java\")\n",
        "print(\"After remove():\", languages)\n",
        "print(\"Sorted list:\", sorted(languages))\n",
        "languages.sort()\n",
        "print(\"After sort():\", languages)\n",
        "languages.reverse()\n",
        "print(\"After reverse():\", languages)"
      ],
      "metadata": {
        "colab": {
          "base_uri": "https://localhost:8080/"
        },
        "id": "cVizPtAUQSEb",
        "outputId": "8355f994-f137-4e8d-9e64-03c7a18e8c4c"
      },
      "execution_count": 32,
      "outputs": [
        {
          "output_type": "stream",
          "name": "stdout",
          "text": [
            "\n",
            "Original list: ['Python', 'JavaScript', 'C++', 'Java', 'Ruby']\n",
            "After append(): ['Python', 'JavaScript', 'C++', 'Java', 'Ruby', 'Swift']\n",
            "After insert(): ['Python', 'JavaScript', 'Go', 'C++', 'Java', 'Ruby', 'Swift']\n",
            "After del: ['Python', 'JavaScript', 'C++', 'Java', 'Ruby', 'Swift']\n",
            "After pop(): ['Python', 'JavaScript', 'C++', 'Java', 'Ruby'] | Popped: Swift\n",
            "After remove(): ['Python', 'JavaScript', 'C++', 'Ruby']\n",
            "Sorted list: ['C++', 'JavaScript', 'Python', 'Ruby']\n",
            "After sort(): ['C++', 'JavaScript', 'Python', 'Ruby']\n",
            "After reverse(): ['Ruby', 'Python', 'JavaScript', 'C++']\n"
          ]
        }
      ]
    },
    {
      "cell_type": "markdown",
      "source": [
        "##Exercise 3-10: Intentional Error\n",
        "\n",
        "● Task: If you haven’t received an index error in one of your programs yet, try to make one\n",
        "happen. Change an index in one of your programs to produce an index error. Make sure\n",
        "you correct the error before closing the program."
      ],
      "metadata": {
        "id": "fvN8TGDvU04Z"
      }
    },
    {
      "cell_type": "code",
      "source": [
        "languages = [\"Python\", \"JavaScript\", \"C++\", \"Java\", \"Ruby\"]\n",
        "\n",
        "# Intentional Error: Trying to access an index that doesn't exist\n",
        "print(\"\\nOriginal list of languages:\", languages)\n",
        "try:\n",
        "    # This will cause an IndexError because the list has only 5 items (index 0-4)\n",
        "    print(\"Accessing index 10 (Intentional Error):\", languages[10])\n",
        "except IndexError:\n",
        "    print(\"Oops! Tried to access an index that doesn't exist. Correcting it now.\")\n",
        "\n",
        "# Correcting the error\n",
        "print(\"\\nCorrecting the error by accessing valid indices:\")\n",
        "for i in range(len(languages)):\n",
        "    print(f\"Language at index {i}: {languages[i]}\")\n"
      ],
      "metadata": {
        "colab": {
          "base_uri": "https://localhost:8080/"
        },
        "id": "P5WLjdF_QgMA",
        "outputId": "6d00e799-7a6a-41f7-bc63-9f780d10ef4d"
      },
      "execution_count": 33,
      "outputs": [
        {
          "output_type": "stream",
          "name": "stdout",
          "text": [
            "\n",
            "Original list of languages: ['Python', 'JavaScript', 'C++', 'Java', 'Ruby']\n",
            "Oops! Tried to access an index that doesn't exist. Correcting it now.\n",
            "\n",
            "Correcting the error by accessing valid indices:\n",
            "Language at index 0: Python\n",
            "Language at index 1: JavaScript\n",
            "Language at index 2: C++\n",
            "Language at index 3: Java\n",
            "Language at index 4: Ruby\n"
          ]
        }
      ]
    }
  ]
}