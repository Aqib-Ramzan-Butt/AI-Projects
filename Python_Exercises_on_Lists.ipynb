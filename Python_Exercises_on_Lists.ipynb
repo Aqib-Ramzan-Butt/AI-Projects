{
  "nbformat": 4,
  "nbformat_minor": 0,
  "metadata": {
    "colab": {
      "provenance": [],
      "authorship_tag": "ABX9TyMSq2rYLVsv5alCijaqx4aB",
      "include_colab_link": true
    },
    "kernelspec": {
      "name": "python3",
      "display_name": "Python 3"
    },
    "language_info": {
      "name": "python"
    }
  },
  "cells": [
    {
      "cell_type": "markdown",
      "metadata": {
        "id": "view-in-github",
        "colab_type": "text"
      },
      "source": [
        "<a href=\"https://colab.research.google.com/github/Aqib-Ramzan-Butt/AI-Projects/blob/main/Python_Exercises_on_Lists.ipynb\" target=\"_parent\"><img src=\"https://colab.research.google.com/assets/colab-badge.svg\" alt=\"Open In Colab\"/></a>"
      ]
    },
    {
      "cell_type": "markdown",
      "source": [
        "# Python Exercises on Lists"
      ],
      "metadata": {
        "id": "1N6qo8RS-47q"
      }
    },
    {
      "cell_type": "code",
      "source": [
        "# Exercise 3-1: Names\n",
        "print(\"Exercise 3-1: Names\")\n",
        "names = [\"Alice\", \"Bob\", \"Charlie\"]\n",
        "for name in names:\n",
        "    print(name)"
      ],
      "metadata": {
        "colab": {
          "base_uri": "https://localhost:8080/"
        },
        "id": "kN8AZ6bmP1Cz",
        "outputId": "d88b09e6-d81a-48f2-8485-a5d23a483f8d"
      },
      "execution_count": 10,
      "outputs": [
        {
          "output_type": "stream",
          "name": "stdout",
          "text": [
            "Exercise 3-1: Names\n",
            "Alice\n",
            "Bob\n",
            "Charlie\n"
          ]
        }
      ]
    },
    {
      "cell_type": "code",
      "source": [
        "# Exercise 3-2: Greetings\n",
        "print(\"\\nExercise 3-2: Greetings\")\n",
        "for name in names:\n",
        "    print(f\"Hello, {name}! I hope you're having a great day!\")"
      ],
      "metadata": {
        "colab": {
          "base_uri": "https://localhost:8080/"
        },
        "id": "HzWSBhccP0nG",
        "outputId": "176dd176-fdd8-4d36-f07a-d02fb81e3795"
      },
      "execution_count": 11,
      "outputs": [
        {
          "output_type": "stream",
          "name": "stdout",
          "text": [
            "\n",
            "Exercise 3-2: Greetings\n",
            "Hello, Alice! I hope you're having a great day!\n",
            "Hello, Bob! I hope you're having a great day!\n",
            "Hello, Charlie! I hope you're having a great day!\n"
          ]
        }
      ]
    },
    {
      "cell_type": "code",
      "source": [
        "# Exercise 3-3: Your Own List\n",
        "print(\"\\nExercise 3-3: Your Own List\")\n",
        "modes_of_transport = [\"motorcycle\", \"car\", \"bicycle\"]\n",
        "for mode in modes_of_transport:\n",
        "    print(f\"I would like to own a {mode}.\")"
      ],
      "metadata": {
        "colab": {
          "base_uri": "https://localhost:8080/"
        },
        "id": "iNzuPBZgP9og",
        "outputId": "bfbbfeed-52d4-490a-9559-0082c1e8594e"
      },
      "execution_count": 12,
      "outputs": [
        {
          "output_type": "stream",
          "name": "stdout",
          "text": [
            "\n",
            "Exercise 3-3: Your Own List\n",
            "I would like to own a motorcycle.\n",
            "I would like to own a car.\n",
            "I would like to own a bicycle.\n"
          ]
        }
      ]
    },
    {
      "cell_type": "code",
      "source": [
        "# Exercise 3-3: Your Own List\n",
        "print(\"\\nExercise 3-3: Your Own List\")\n",
        "modes_of_transport = [\"motorcycle\", \"car\", \"bicycle\"]\n",
        "for mode in modes_of_transport:\n",
        "    print(f\"I would like to own a {mode}.\")"
      ],
      "metadata": {
        "colab": {
          "base_uri": "https://localhost:8080/"
        },
        "id": "6YZn3fwlP9k5",
        "outputId": "546d1d67-87da-4735-e6dd-def46ef7941c"
      },
      "execution_count": 13,
      "outputs": [
        {
          "output_type": "stream",
          "name": "stdout",
          "text": [
            "\n",
            "Exercise 3-3: Your Own List\n",
            "I would like to own a motorcycle.\n",
            "I would like to own a car.\n",
            "I would like to own a bicycle.\n"
          ]
        }
      ]
    },
    {
      "cell_type": "code",
      "source": [
        "# Exercise 3-4: Guest List\n",
        "print(\"\\nExercise 3-4: Guest List\")\n",
        "guest_list = [\"Ali\", \"Ahmad\", \"Ahsan\"]\n",
        "for guest in guest_list:\n",
        "    print(f\"Dear {guest}, you are invited to a special dinner party!\")"
      ],
      "metadata": {
        "colab": {
          "base_uri": "https://localhost:8080/"
        },
        "id": "ecv7g8YuP9hx",
        "outputId": "57370657-ae9a-4452-9bc3-efa538943b1f"
      },
      "execution_count": 20,
      "outputs": [
        {
          "output_type": "stream",
          "name": "stdout",
          "text": [
            "\n",
            "Exercise 3-4: Guest List\n",
            "Dear Ali, you are invited to a special dinner party!\n",
            "Dear Ahmad, you are invited to a special dinner party!\n",
            "Dear Ahsan, you are invited to a special dinner party!\n"
          ]
        }
      ]
    },
    {
      "cell_type": "code",
      "source": [
        "# Exercise 3-5: Changing Guest List\n",
        "print(\"\\nExercise 3-5: Changing Guest List\")\n",
        "print(f\"\\nUnfortunately, {guest_list[2]} can't make it.\")\n",
        "guest_list[2] = \"Burhan\"\n",
        "for guest in guest_list:\n",
        "    print(f\"Dear {guest}, you are still invited to a special dinner party!\")"
      ],
      "metadata": {
        "colab": {
          "base_uri": "https://localhost:8080/"
        },
        "id": "V63iuUmuP9ee",
        "outputId": "e56c5879-4fb4-4265-caee-e6594cbfdd55"
      },
      "execution_count": 21,
      "outputs": [
        {
          "output_type": "stream",
          "name": "stdout",
          "text": [
            "\n",
            "Exercise 3-5: Changing Guest List\n",
            "\n",
            "Unfortunately, Ahsan can't make it.\n",
            "Dear Ali, you are still invited to a special dinner party!\n",
            "Dear Ahmad, you are still invited to a special dinner party!\n",
            "Dear Burhan, you are still invited to a special dinner party!\n"
          ]
        }
      ]
    },
    {
      "cell_type": "code",
      "source": [
        "# Exercise 3-6: More Guests\n",
        "print(\"\\nExercise 3-6: More Guests\")\n",
        "print(\"\\nGreat news! We found a bigger table!\")\n",
        "guest_list.insert(0, \"Shahzaib\")\n",
        "guest_list.insert(2, \"Sohail\")\n",
        "guest_list.append(\"Umair\")\n",
        "for guest in guest_list:\n",
        "    print(f\"Dear {guest}, you're invited to a special dinner party!\")"
      ],
      "metadata": {
        "colab": {
          "base_uri": "https://localhost:8080/"
        },
        "id": "OkqJwWVPQJ1x",
        "outputId": "dde96d5b-f450-40d5-8372-1f33ab4d4b87"
      },
      "execution_count": 22,
      "outputs": [
        {
          "output_type": "stream",
          "name": "stdout",
          "text": [
            "\n",
            "Exercise 3-6: More Guests\n",
            "\n",
            "Great news! We found a bigger table!\n",
            "Dear Shahzaib, you're invited to a special dinner party!\n",
            "Dear Ali, you're invited to a special dinner party!\n",
            "Dear Sohail, you're invited to a special dinner party!\n",
            "Dear Ahmad, you're invited to a special dinner party!\n",
            "Dear Burhan, you're invited to a special dinner party!\n",
            "Dear Umair, you're invited to a special dinner party!\n"
          ]
        }
      ]
    },
    {
      "cell_type": "code",
      "source": [
        "# Exercise 3-7: Shrinking Guest List\n",
        "print(\"\\nExercise 3-7: Shrinking Guest List\")\n",
        "print(\"\\nUnfortunately, we can only invite two people to the dinner.\")\n",
        "while len(guest_list) > 2:\n",
        "    removed_guest = guest_list.pop()\n",
        "    print(f\"Sorry, {removed_guest}, we can't invite you to dinner.\")\n",
        "for guest in guest_list:\n",
        "    print(f\"Dear {guest}, you are still invited to the dinner!\")\n",
        "guest_list.clear()\n",
        "print(f\"Guest list is now empty: {guest_list}\")"
      ],
      "metadata": {
        "colab": {
          "base_uri": "https://localhost:8080/"
        },
        "id": "l0xuowA6QJx4",
        "outputId": "dd83dece-2147-44b1-bfa3-030b86d5fd4c"
      },
      "execution_count": 23,
      "outputs": [
        {
          "output_type": "stream",
          "name": "stdout",
          "text": [
            "\n",
            "Exercise 3-7: Shrinking Guest List\n",
            "\n",
            "Unfortunately, we can only invite two people to the dinner.\n",
            "Sorry, Umair, we can't invite you to dinner.\n",
            "Sorry, Burhan, we can't invite you to dinner.\n",
            "Sorry, Ahmad, we can't invite you to dinner.\n",
            "Sorry, Sohail, we can't invite you to dinner.\n",
            "Dear Shahzaib, you are still invited to the dinner!\n",
            "Dear Ali, you are still invited to the dinner!\n",
            "Guest list is now empty: []\n"
          ]
        }
      ]
    },
    {
      "cell_type": "code",
      "source": [
        "# Exercise 3-8: Seeing the World\n",
        "print(\"\\nExercise 3-8: Seeing the World\")\n",
        "places = [\"Japan\", \"Norway\", \"Australia\", \"Iceland\", \"Italy\"]\n",
        "print(\"\\nOriginal list:\", places)\n",
        "print(\"Alphabetical order:\", sorted(places))\n",
        "print(\"Original list after sorted():\", places)\n",
        "print(\"Reverse alphabetical order:\", sorted(places, reverse=True))\n",
        "print(\"Original list after reverse sorted():\", places)\n",
        "places.reverse()\n",
        "print(\"List after reverse():\", places)\n",
        "places.reverse()\n",
        "print(\"List after reversing again:\", places)\n",
        "places.sort()\n",
        "print(\"List after sort():\", places)\n",
        "places.sort(reverse=True)\n",
        "print(\"List after reverse sort():\", places)"
      ],
      "metadata": {
        "colab": {
          "base_uri": "https://localhost:8080/"
        },
        "id": "UhZbuWjDQSVm",
        "outputId": "a00f548d-2a97-4e35-cc29-1792b0e951a4"
      },
      "execution_count": 18,
      "outputs": [
        {
          "output_type": "stream",
          "name": "stdout",
          "text": [
            "\n",
            "Exercise 3-8: Seeing the World\n",
            "\n",
            "Original list: ['Japan', 'Norway', 'Australia', 'Iceland', 'Italy']\n",
            "Alphabetical order: ['Australia', 'Iceland', 'Italy', 'Japan', 'Norway']\n",
            "Original list after sorted(): ['Japan', 'Norway', 'Australia', 'Iceland', 'Italy']\n",
            "Reverse alphabetical order: ['Norway', 'Japan', 'Italy', 'Iceland', 'Australia']\n",
            "Original list after reverse sorted(): ['Japan', 'Norway', 'Australia', 'Iceland', 'Italy']\n",
            "List after reverse(): ['Italy', 'Iceland', 'Australia', 'Norway', 'Japan']\n",
            "List after reversing again: ['Japan', 'Norway', 'Australia', 'Iceland', 'Italy']\n",
            "List after sort(): ['Australia', 'Iceland', 'Italy', 'Japan', 'Norway']\n",
            "List after reverse sort(): ['Norway', 'Japan', 'Italy', 'Iceland', 'Australia']\n"
          ]
        }
      ]
    },
    {
      "cell_type": "code",
      "source": [
        "# Exercise 3-9: Every Function\n",
        "print(\"\\nExercise 3-9: Every Function\")\n",
        "languages = [\"Python\", \"JavaScript\", \"C++\", \"Java\", \"Ruby\"]\n",
        "print(\"\\nOriginal list:\", languages)\n",
        "languages.append(\"Swift\")\n",
        "print(\"After append():\", languages)\n",
        "languages.insert(2, \"Go\")\n",
        "print(\"After insert():\", languages)\n",
        "del languages[2]\n",
        "print(\"After del:\", languages)\n",
        "popped_language = languages.pop()\n",
        "print(\"After pop():\", languages, \"| Popped:\", popped_language)\n",
        "languages.remove(\"Java\")\n",
        "print(\"After remove():\", languages)\n",
        "print(\"Sorted list:\", sorted(languages))\n",
        "languages.sort()\n",
        "print(\"After sort():\", languages)\n",
        "languages.reverse()\n",
        "print(\"After reverse():\", languages)"
      ],
      "metadata": {
        "colab": {
          "base_uri": "https://localhost:8080/"
        },
        "id": "cVizPtAUQSEb",
        "outputId": "85671834-780f-4492-9fd7-73cd1c8b4b47"
      },
      "execution_count": 19,
      "outputs": [
        {
          "output_type": "stream",
          "name": "stdout",
          "text": [
            "\n",
            "Exercise 3-9: Every Function\n",
            "\n",
            "Original list: ['Python', 'JavaScript', 'C++', 'Java', 'Ruby']\n",
            "After append(): ['Python', 'JavaScript', 'C++', 'Java', 'Ruby', 'Swift']\n",
            "After insert(): ['Python', 'JavaScript', 'Go', 'C++', 'Java', 'Ruby', 'Swift']\n",
            "After del: ['Python', 'JavaScript', 'C++', 'Java', 'Ruby', 'Swift']\n",
            "After pop(): ['Python', 'JavaScript', 'C++', 'Java', 'Ruby'] | Popped: Swift\n",
            "After remove(): ['Python', 'JavaScript', 'C++', 'Ruby']\n",
            "Sorted list: ['C++', 'JavaScript', 'Python', 'Ruby']\n",
            "After sort(): ['C++', 'JavaScript', 'Python', 'Ruby']\n",
            "After reverse(): ['Ruby', 'Python', 'JavaScript', 'C++']\n"
          ]
        }
      ]
    },
    {
      "cell_type": "code",
      "source": [
        "# Exercise 3-10: Intentional Error\n",
        "print(\"\\nExercise 3-10: Intentional Error\")\n",
        "languages = [\"Python\", \"JavaScript\", \"C++\", \"Java\", \"Ruby\"]\n",
        "\n",
        "# Intentional Error: Trying to access an index that doesn't exist\n",
        "print(\"\\nOriginal list of languages:\", languages)\n",
        "try:\n",
        "    # This will cause an IndexError because the list has only 5 items (index 0-4)\n",
        "    print(\"Accessing index 10 (Intentional Error):\", languages[10])\n",
        "except IndexError:\n",
        "    print(\"Oops! Tried to access an index that doesn't exist. Correcting it now.\")\n",
        "\n",
        "# Correcting the error\n",
        "print(\"\\nCorrecting the error by accessing valid indices:\")\n",
        "for i in range(len(languages)):\n",
        "    print(f\"Language at index {i}: {languages[i]}\")\n"
      ],
      "metadata": {
        "colab": {
          "base_uri": "https://localhost:8080/"
        },
        "id": "P5WLjdF_QgMA",
        "outputId": "96d61209-8d67-4995-f679-094ac013b285"
      },
      "execution_count": 9,
      "outputs": [
        {
          "output_type": "stream",
          "name": "stdout",
          "text": [
            "\n",
            "Exercise 3-10: Intentional Error\n",
            "\n",
            "Original list of languages: ['Python', 'JavaScript', 'C++', 'Java', 'Ruby']\n",
            "Oops! Tried to access an index that doesn't exist. Correcting it now.\n",
            "\n",
            "Correcting the error by accessing valid indices:\n",
            "Language at index 0: Python\n",
            "Language at index 1: JavaScript\n",
            "Language at index 2: C++\n",
            "Language at index 3: Java\n",
            "Language at index 4: Ruby\n"
          ]
        }
      ]
    }
  ]
}