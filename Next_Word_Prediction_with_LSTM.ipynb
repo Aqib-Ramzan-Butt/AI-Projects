{
  "nbformat": 4,
  "nbformat_minor": 0,
  "metadata": {
    "colab": {
      "provenance": [],
      "authorship_tag": "ABX9TyPJExntcXSjIV7ZQy9+IVvT",
      "include_colab_link": true
    },
    "kernelspec": {
      "name": "python3",
      "display_name": "Python 3"
    },
    "language_info": {
      "name": "python"
    }
  },
  "cells": [
    {
      "cell_type": "markdown",
      "metadata": {
        "id": "view-in-github",
        "colab_type": "text"
      },
      "source": [
        "<a href=\"https://colab.research.google.com/github/Aqib-Ramzan-Butt/AI-Projects/blob/main/Next_Word_Prediction_with_LSTM.ipynb\" target=\"_parent\"><img src=\"https://colab.research.google.com/assets/colab-badge.svg\" alt=\"Open In Colab\"/></a>"
      ]
    },
    {
      "cell_type": "code",
      "execution_count": 1,
      "metadata": {
        "id": "4p1k8nX7XUQm"
      },
      "outputs": [],
      "source": [
        "import numpy as np\n",
        "import tensorflow as tf\n",
        "from tensorflow.keras.models import Sequential\n",
        "from tensorflow.keras.layers import Dense, LSTM, Embedding\n",
        "from tensorflow.keras.preprocessing.text import Tokenizer\n",
        "from tensorflow.keras.preprocessing.sequence import pad_sequences"
      ]
    },
    {
      "cell_type": "code",
      "source": [
        "sentences = [\n",
        "    \"Machine learning algorithms are powerful tools.\"\n",
        "    \"I enjoy exploring new algorithms.\"\n",
        "    \"Learning about AI is captivating.\"\n",
        "    \"Deep learning models can be complex.\"\n",
        "    \"I love understanding how neural networks work.\"\n",
        "    \"The field of data science is evolving rapidly.\"\n",
        "    \"I find artificial intelligence intriguing.\"\n",
        "    \"Studying computer vision is exciting.\"\n",
        "    \"Natural language processing is a fascinating domain.\"\n",
        "    \"I enjoy coding in Python for data science projects.\"\n",
        "    \"Building models is a creative process.\"\n",
        "    \"I love experimenting with different machine learning techniques.\"\n",
        "    \"The potential of AI to transform industries is amazing.\"\n",
        "    \"I enjoy staying updated with the latest tech trends.\"\n",
        "    \"Learning about reinforcement learning is interesting.\"\n",
        "    \"I find predictive modeling to be very useful.\"\n",
        "    \"I love solving problems with data analysis.\"\n",
        "    \"Data preprocessing is a crucial step in machine learning.\"\n",
        "    \"I enjoy reading research papers on deep learning.\"\n",
        "    \"I find optimization techniques fascinating.\"\n",
        "    \"Understanding algorithms helps in developing better solutions.\"\n",
        "    \"I love the challenge of debugging code.\"\n",
        "    \"Machine learning applications are diverse and impactful.\"\n",
        "    \"I enjoy collaborating with others on tech projects.\"\n",
        "    \"Learning new programming languages is fun.\"\n",
        "    \"I love working with large datasets.\"\n",
        "    \"I find feature engineering to be an art.\"\n",
        "    \"Model evaluation is an essential part of machine learning.\"\n",
        "    \"I enjoy attending tech conferences.\"\n",
        "    \"Learning about big data technologies is exciting.\"\n",
        "    \"I love experimenting with neural network architectures.\"\n",
        "    \"I find the theory behind machine learning algorithms interesting.\"\n",
        "    \"I enjoy visualizing data insights.\"\n",
        "    \"Machine learning models can make accurate predictions.\"\n",
        "    \"I love the creativity involved in data storytelling.\"\n",
        "    \"I find unsupervised learning techniques intriguing.\"\n",
        "    \"I enjoy automating tasks with AI.\"\n",
        "    \"Learning about AI ethics is important.\"\n",
        "    \"I love the problem-solving aspect of machine learning.\"\n",
        "    \"I find cloud computing technologies fascinating.\"\n",
        "    \"I enjoy using machine learning for real-world applications.\"\n",
        "    \"I love experimenting with different data preprocessing techniques.\"\n",
        "    \"I find transfer learning to be a powerful approach.\"\n",
        "    \"I enjoy working on machine learning projects.\"\n",
        "    \"Learning about data privacy is crucial.\"\n",
        "    \"I love the innovation happening in the AI field.\"\n",
        "    \"I find data visualization tools useful.\"\n",
        "    \"I enjoy testing and validating machine learning models.\"\n",
        "    \"I love discovering new machine learning applications.\"\n",
        "    \"I find ensemble methods to be effective.\"\n",
        "    \"I enjoy learning from data.\"\n",
        "    \"Machine learning can provide valuable insights.\"\n",
        "    \"I love the interdisciplinary nature of AI.\"\n",
        "    \"I find recommendation systems interesting.\"\n",
        "    \"I enjoy participating in hackathons.\"\n",
        "    \"Learning about neural networks is fascinating.\"\n",
        "    \"I love the potential of AI to solve complex problems.\"\n",
        "    \"I find sentiment analysis intriguing.\"\n",
        "    \"I enjoy implementing machine learning algorithms.\"\n",
        "    \"I love the excitement of discovering patterns in data.\"\n",
        "    \"I find time series analysis challenging.\"\n",
        "    \"I enjoy exploring different types of data.\"\n",
        "    \"Machine learning is transforming various industries.\"\n",
        "    \"I love working on predictive analytics.\"\n",
        "    \"I find anomaly detection to be useful.\"\n",
        "    \"I enjoy studying the mathematics behind machine learning.\"\n",
        "    \"I love the hands-on experience of building models.\"\n",
        "    \"I find clustering techniques interesting.\"\n",
        "    \"I enjoy exploring open-source machine learning libraries.\"\n",
        "    \"Machine learning can automate complex tasks.\"\n",
        "    \"I love the flexibility of machine learning models.\"\n",
        "    \"I find computer vision applications fascinating.\"\n",
        "    \"I enjoy solving real-world problems with AI.\"\n",
        "    \"I love the continuous learning aspect of AI.\"\n",
        "    \"I find reinforcement learning to be challenging.\"\n",
        "    \"I enjoy experimenting with hyperparameter tuning.\"\n",
        "    \"Machine learning can improve decision-making processes.\"\n",
        "    \"I love the creativity involved in feature selection.\"\n",
        "    \"I find generative models to be fascinating.\"\n",
        "    \"I enjoy reading about the latest AI advancements.\"\n",
        "    \"Machine learning can enhance user experiences.\"\n",
        "    \"I love the diversity of machine learning applications.\"\n",
        "    \"I find natural language generation intriguing.\"\n",
        "    \"I enjoy working with text data.\"\n",
        "    \"Machine learning can optimize business processes.\"\n",
        "    \"I love the innovation in AI research.\"\n",
        "    \"I find the concept of machine learning interpretability interesting.\"\n",
        "    \"I enjoy creating machine learning workflows.\"\n",
        "    \"Machine learning can uncover hidden patterns.\"\n",
        "    \"I love the impact of AI on society.\"\n",
        "    \"I find deep reinforcement learning fascinating.\"\n",
        "    \"I enjoy developing custom machine learning solutions.\"\n",
        "    \"Machine learning can improve customer experiences.\"\n",
        "    \"I love the potential of AI in healthcare.\"\n",
        "    \"I find the scalability of machine learning models intriguing.\"\n",
        "    \"I enjoy applying machine learning to finance.\"\n",
        "    \"Machine learning can enhance security measures.\"\n",
        "    \"I love the possibilities of AI in creative industries.\"\n",
        "    \"I find the ethical implications of AI important.\"\n",
        "    \"I enjoy sharing knowledge about machine learning.\"\n",
        "]"
      ],
      "metadata": {
        "id": "AjaDBTrLXYEk"
      },
      "execution_count": 2,
      "outputs": []
    },
    {
      "cell_type": "code",
      "source": [
        "tokenizer = Tokenizer()\n",
        "\n",
        "tokenizer.fit_on_texts(sentences)\n",
        "\n",
        "total_words = len(tokenizer.word_index) + 1\n",
        "\n",
        "input_sequences = []\n",
        "\n",
        "for line in sentences:\n",
        "    token_list = tokenizer.texts_to_sequences([line])[0]\n",
        "\n",
        "    for i in range(1, len(token_list)):\n",
        "        n_gram_sequence = token_list[:i+1]\n",
        "        input_sequences.append(n_gram_sequence)\n",
        "\n",
        "max_sequence_len = max([len(x) for x in input_sequences])\n",
        "\n",
        "input_sequences = np.array(pad_sequences(input_sequences, maxlen=max_sequence_len, padding='pre'))\n"
      ],
      "metadata": {
        "id": "XjPWCIMoXYBN"
      },
      "execution_count": 3,
      "outputs": []
    },
    {
      "cell_type": "code",
      "source": [
        "X = input_sequences[:, :-1]\n",
        "\n",
        "y = input_sequences[:, -1]\n",
        "\n",
        "y = tf.keras.utils.to_categorical(y, num_classes=total_words)\n"
      ],
      "metadata": {
        "id": "rAZoLBaqXX-7"
      },
      "execution_count": 4,
      "outputs": []
    },
    {
      "cell_type": "markdown",
      "source": [
        "# **Defining the LSTM Model**\n"
      ],
      "metadata": {
        "id": "9xdxFs4xXkbY"
      }
    },
    {
      "cell_type": "code",
      "source": [
        "model = Sequential([\n",
        "    Embedding(total_words, 10, input_length=max_sequence_len-1),\n",
        "\n",
        "    LSTM(100),\n",
        "\n",
        "    Dense(total_words, activation='softmax')\n",
        "])\n"
      ],
      "metadata": {
        "colab": {
          "base_uri": "https://localhost:8080/"
        },
        "id": "HBpPrAfbXj_B",
        "outputId": "5e2b034c-f364-4d11-d35c-3da4f277161a"
      },
      "execution_count": 5,
      "outputs": [
        {
          "output_type": "stream",
          "name": "stderr",
          "text": [
            "/usr/local/lib/python3.10/dist-packages/keras/src/layers/core/embedding.py:90: UserWarning: Argument `input_length` is deprecated. Just remove it.\n",
            "  warnings.warn(\n"
          ]
        }
      ]
    },
    {
      "cell_type": "markdown",
      "source": [
        "# **Compiling the model**"
      ],
      "metadata": {
        "id": "cJzD2Qv6Xtga"
      }
    },
    {
      "cell_type": "code",
      "source": [
        "model.compile(\n",
        "    loss='categorical_crossentropy',\n",
        "\n",
        "    optimizer='adam',\n",
        "\n",
        "    metrics=['accuracy']\n",
        ")\n",
        "\n"
      ],
      "metadata": {
        "id": "uN0nNEqYXX8T"
      },
      "execution_count": 6,
      "outputs": []
    },
    {
      "cell_type": "markdown",
      "source": [
        "# **Training the Model**\n"
      ],
      "metadata": {
        "id": "fyjfYU4PYlP2"
      }
    },
    {
      "cell_type": "code",
      "source": [
        "model.fit(X, y, epochs=60, verbose=1)\n"
      ],
      "metadata": {
        "colab": {
          "base_uri": "https://localhost:8080/"
        },
        "id": "IGNnt24VXX5u",
        "outputId": "fdb95c5d-0d60-4f3a-9eab-5386d425929b"
      },
      "execution_count": 7,
      "outputs": [
        {
          "output_type": "stream",
          "name": "stdout",
          "text": [
            "Epoch 1/60\n",
            "\u001b[1m22/22\u001b[0m \u001b[32m━━━━━━━━━━━━━━━━━━━━\u001b[0m\u001b[37m\u001b[0m \u001b[1m12s\u001b[0m 432ms/step - accuracy: 0.0788 - loss: 5.3794\n",
            "Epoch 2/60\n",
            "\u001b[1m22/22\u001b[0m \u001b[32m━━━━━━━━━━━━━━━━━━━━\u001b[0m\u001b[37m\u001b[0m \u001b[1m9s\u001b[0m 393ms/step - accuracy: 0.1098 - loss: 4.6541\n",
            "Epoch 3/60\n",
            "\u001b[1m22/22\u001b[0m \u001b[32m━━━━━━━━━━━━━━━━━━━━\u001b[0m\u001b[37m\u001b[0m \u001b[1m11s\u001b[0m 460ms/step - accuracy: 0.1198 - loss: 4.5193\n",
            "Epoch 4/60\n",
            "\u001b[1m22/22\u001b[0m \u001b[32m━━━━━━━━━━━━━━━━━━━━\u001b[0m\u001b[37m\u001b[0m \u001b[1m10s\u001b[0m 459ms/step - accuracy: 0.1061 - loss: 4.5344\n",
            "Epoch 5/60\n",
            "\u001b[1m22/22\u001b[0m \u001b[32m━━━━━━━━━━━━━━━━━━━━\u001b[0m\u001b[37m\u001b[0m \u001b[1m9s\u001b[0m 400ms/step - accuracy: 0.0941 - loss: 4.4830\n",
            "Epoch 6/60\n",
            "\u001b[1m22/22\u001b[0m \u001b[32m━━━━━━━━━━━━━━━━━━━━\u001b[0m\u001b[37m\u001b[0m \u001b[1m10s\u001b[0m 385ms/step - accuracy: 0.0954 - loss: 4.4737\n",
            "Epoch 7/60\n",
            "\u001b[1m22/22\u001b[0m \u001b[32m━━━━━━━━━━━━━━━━━━━━\u001b[0m\u001b[37m\u001b[0m \u001b[1m11s\u001b[0m 452ms/step - accuracy: 0.1007 - loss: 4.5096\n",
            "Epoch 8/60\n",
            "\u001b[1m22/22\u001b[0m \u001b[32m━━━━━━━━━━━━━━━━━━━━\u001b[0m\u001b[37m\u001b[0m \u001b[1m10s\u001b[0m 453ms/step - accuracy: 0.0964 - loss: 4.5058\n",
            "Epoch 9/60\n",
            "\u001b[1m22/22\u001b[0m \u001b[32m━━━━━━━━━━━━━━━━━━━━\u001b[0m\u001b[37m\u001b[0m \u001b[1m11s\u001b[0m 477ms/step - accuracy: 0.1179 - loss: 4.4303\n",
            "Epoch 10/60\n",
            "\u001b[1m22/22\u001b[0m \u001b[32m━━━━━━━━━━━━━━━━━━━━\u001b[0m\u001b[37m\u001b[0m \u001b[1m20s\u001b[0m 447ms/step - accuracy: 0.1383 - loss: 4.4371\n",
            "Epoch 11/60\n",
            "\u001b[1m22/22\u001b[0m \u001b[32m━━━━━━━━━━━━━━━━━━━━\u001b[0m\u001b[37m\u001b[0m \u001b[1m10s\u001b[0m 461ms/step - accuracy: 0.1672 - loss: 4.2540\n",
            "Epoch 12/60\n",
            "\u001b[1m22/22\u001b[0m \u001b[32m━━━━━━━━━━━━━━━━━━━━\u001b[0m\u001b[37m\u001b[0m \u001b[1m10s\u001b[0m 436ms/step - accuracy: 0.1881 - loss: 4.2163\n",
            "Epoch 13/60\n",
            "\u001b[1m22/22\u001b[0m \u001b[32m━━━━━━━━━━━━━━━━━━━━\u001b[0m\u001b[37m\u001b[0m \u001b[1m9s\u001b[0m 393ms/step - accuracy: 0.2003 - loss: 4.1911\n",
            "Epoch 14/60\n",
            "\u001b[1m22/22\u001b[0m \u001b[32m━━━━━━━━━━━━━━━━━━━━\u001b[0m\u001b[37m\u001b[0m \u001b[1m13s\u001b[0m 511ms/step - accuracy: 0.2041 - loss: 4.1431\n",
            "Epoch 15/60\n",
            "\u001b[1m22/22\u001b[0m \u001b[32m━━━━━━━━━━━━━━━━━━━━\u001b[0m\u001b[37m\u001b[0m \u001b[1m10s\u001b[0m 464ms/step - accuracy: 0.2554 - loss: 3.8349\n",
            "Epoch 16/60\n",
            "\u001b[1m22/22\u001b[0m \u001b[32m━━━━━━━━━━━━━━━━━━━━\u001b[0m\u001b[37m\u001b[0m \u001b[1m10s\u001b[0m 461ms/step - accuracy: 0.2039 - loss: 3.8967\n",
            "Epoch 17/60\n",
            "\u001b[1m22/22\u001b[0m \u001b[32m━━━━━━━━━━━━━━━━━━━━\u001b[0m\u001b[37m\u001b[0m \u001b[1m9s\u001b[0m 387ms/step - accuracy: 0.2330 - loss: 3.7681\n",
            "Epoch 18/60\n",
            "\u001b[1m22/22\u001b[0m \u001b[32m━━━━━━━━━━━━━━━━━━━━\u001b[0m\u001b[37m\u001b[0m \u001b[1m10s\u001b[0m 391ms/step - accuracy: 0.2582 - loss: 3.6868\n",
            "Epoch 19/60\n",
            "\u001b[1m22/22\u001b[0m \u001b[32m━━━━━━━━━━━━━━━━━━━━\u001b[0m\u001b[37m\u001b[0m \u001b[1m12s\u001b[0m 447ms/step - accuracy: 0.2673 - loss: 3.6431\n",
            "Epoch 20/60\n",
            "\u001b[1m22/22\u001b[0m \u001b[32m━━━━━━━━━━━━━━━━━━━━\u001b[0m\u001b[37m\u001b[0m \u001b[1m10s\u001b[0m 456ms/step - accuracy: 0.2931 - loss: 3.4702\n",
            "Epoch 21/60\n",
            "\u001b[1m22/22\u001b[0m \u001b[32m━━━━━━━━━━━━━━━━━━━━\u001b[0m\u001b[37m\u001b[0m \u001b[1m10s\u001b[0m 433ms/step - accuracy: 0.2921 - loss: 3.5018\n",
            "Epoch 22/60\n",
            "\u001b[1m22/22\u001b[0m \u001b[32m━━━━━━━━━━━━━━━━━━━━\u001b[0m\u001b[37m\u001b[0m \u001b[1m9s\u001b[0m 382ms/step - accuracy: 0.2999 - loss: 3.4016\n",
            "Epoch 23/60\n",
            "\u001b[1m22/22\u001b[0m \u001b[32m━━━━━━━━━━━━━━━━━━━━\u001b[0m\u001b[37m\u001b[0m \u001b[1m11s\u001b[0m 499ms/step - accuracy: 0.3145 - loss: 3.3700\n",
            "Epoch 24/60\n",
            "\u001b[1m22/22\u001b[0m \u001b[32m━━━━━━━━━━━━━━━━━━━━\u001b[0m\u001b[37m\u001b[0m \u001b[1m19s\u001b[0m 454ms/step - accuracy: 0.3248 - loss: 3.2323\n",
            "Epoch 25/60\n",
            "\u001b[1m22/22\u001b[0m \u001b[32m━━━━━━━━━━━━━━━━━━━━\u001b[0m\u001b[37m\u001b[0m \u001b[1m9s\u001b[0m 384ms/step - accuracy: 0.3497 - loss: 3.1993\n",
            "Epoch 26/60\n",
            "\u001b[1m22/22\u001b[0m \u001b[32m━━━━━━━━━━━━━━━━━━━━\u001b[0m\u001b[37m\u001b[0m \u001b[1m10s\u001b[0m 457ms/step - accuracy: 0.3629 - loss: 3.1779\n",
            "Epoch 27/60\n",
            "\u001b[1m22/22\u001b[0m \u001b[32m━━━━━━━━━━━━━━━━━━━━\u001b[0m\u001b[37m\u001b[0m \u001b[1m10s\u001b[0m 453ms/step - accuracy: 0.3612 - loss: 3.0754\n",
            "Epoch 28/60\n",
            "\u001b[1m22/22\u001b[0m \u001b[32m━━━━━━━━━━━━━━━━━━━━\u001b[0m\u001b[37m\u001b[0m \u001b[1m8s\u001b[0m 382ms/step - accuracy: 0.3419 - loss: 3.1481\n",
            "Epoch 29/60\n",
            "\u001b[1m22/22\u001b[0m \u001b[32m━━━━━━━━━━━━━━━━━━━━\u001b[0m\u001b[37m\u001b[0m \u001b[1m10s\u001b[0m 444ms/step - accuracy: 0.3690 - loss: 2.9668\n",
            "Epoch 30/60\n",
            "\u001b[1m22/22\u001b[0m \u001b[32m━━━━━━━━━━━━━━━━━━━━\u001b[0m\u001b[37m\u001b[0m \u001b[1m10s\u001b[0m 457ms/step - accuracy: 0.3713 - loss: 2.9424\n",
            "Epoch 31/60\n",
            "\u001b[1m22/22\u001b[0m \u001b[32m━━━━━━━━━━━━━━━━━━━━\u001b[0m\u001b[37m\u001b[0m \u001b[1m9s\u001b[0m 418ms/step - accuracy: 0.3781 - loss: 2.8374\n",
            "Epoch 32/60\n",
            "\u001b[1m22/22\u001b[0m \u001b[32m━━━━━━━━━━━━━━━━━━━━\u001b[0m\u001b[37m\u001b[0m \u001b[1m9s\u001b[0m 412ms/step - accuracy: 0.3915 - loss: 2.7611\n",
            "Epoch 33/60\n",
            "\u001b[1m22/22\u001b[0m \u001b[32m━━━━━━━━━━━━━━━━━━━━\u001b[0m\u001b[37m\u001b[0m \u001b[1m11s\u001b[0m 461ms/step - accuracy: 0.3951 - loss: 2.6913\n",
            "Epoch 34/60\n",
            "\u001b[1m22/22\u001b[0m \u001b[32m━━━━━━━━━━━━━━━━━━━━\u001b[0m\u001b[37m\u001b[0m \u001b[1m10s\u001b[0m 456ms/step - accuracy: 0.3836 - loss: 2.7699\n",
            "Epoch 35/60\n",
            "\u001b[1m22/22\u001b[0m \u001b[32m━━━━━━━━━━━━━━━━━━━━\u001b[0m\u001b[37m\u001b[0m \u001b[1m8s\u001b[0m 385ms/step - accuracy: 0.3999 - loss: 2.6942\n",
            "Epoch 36/60\n",
            "\u001b[1m22/22\u001b[0m \u001b[32m━━━━━━━━━━━━━━━━━━━━\u001b[0m\u001b[37m\u001b[0m \u001b[1m11s\u001b[0m 399ms/step - accuracy: 0.4121 - loss: 2.5744\n",
            "Epoch 37/60\n",
            "\u001b[1m22/22\u001b[0m \u001b[32m━━━━━━━━━━━━━━━━━━━━\u001b[0m\u001b[37m\u001b[0m \u001b[1m10s\u001b[0m 455ms/step - accuracy: 0.4123 - loss: 2.5843\n",
            "Epoch 38/60\n",
            "\u001b[1m22/22\u001b[0m \u001b[32m━━━━━━━━━━━━━━━━━━━━\u001b[0m\u001b[37m\u001b[0m \u001b[1m10s\u001b[0m 458ms/step - accuracy: 0.4450 - loss: 2.4391\n",
            "Epoch 39/60\n",
            "\u001b[1m22/22\u001b[0m \u001b[32m━━━━━━━━━━━━━━━━━━━━\u001b[0m\u001b[37m\u001b[0m \u001b[1m9s\u001b[0m 382ms/step - accuracy: 0.4371 - loss: 2.4513\n",
            "Epoch 40/60\n",
            "\u001b[1m22/22\u001b[0m \u001b[32m━━━━━━━━━━━━━━━━━━━━\u001b[0m\u001b[37m\u001b[0m \u001b[1m11s\u001b[0m 410ms/step - accuracy: 0.4377 - loss: 2.4131\n",
            "Epoch 41/60\n",
            "\u001b[1m22/22\u001b[0m \u001b[32m━━━━━━━━━━━━━━━━━━━━\u001b[0m\u001b[37m\u001b[0m \u001b[1m11s\u001b[0m 459ms/step - accuracy: 0.4322 - loss: 2.3347\n",
            "Epoch 42/60\n",
            "\u001b[1m22/22\u001b[0m \u001b[32m━━━━━━━━━━━━━━━━━━━━\u001b[0m\u001b[37m\u001b[0m \u001b[1m10s\u001b[0m 454ms/step - accuracy: 0.4466 - loss: 2.2937\n",
            "Epoch 43/60\n",
            "\u001b[1m22/22\u001b[0m \u001b[32m━━━━━━━━━━━━━━━━━━━━\u001b[0m\u001b[37m\u001b[0m \u001b[1m8s\u001b[0m 378ms/step - accuracy: 0.4516 - loss: 2.2307\n",
            "Epoch 44/60\n",
            "\u001b[1m22/22\u001b[0m \u001b[32m━━━━━━━━━━━━━━━━━━━━\u001b[0m\u001b[37m\u001b[0m \u001b[1m12s\u001b[0m 472ms/step - accuracy: 0.4577 - loss: 2.1749\n",
            "Epoch 45/60\n",
            "\u001b[1m22/22\u001b[0m \u001b[32m━━━━━━━━━━━━━━━━━━━━\u001b[0m\u001b[37m\u001b[0m \u001b[1m10s\u001b[0m 453ms/step - accuracy: 0.4589 - loss: 2.1208\n",
            "Epoch 46/60\n",
            "\u001b[1m22/22\u001b[0m \u001b[32m━━━━━━━━━━━━━━━━━━━━\u001b[0m\u001b[37m\u001b[0m \u001b[1m10s\u001b[0m 455ms/step - accuracy: 0.5001 - loss: 2.0189\n",
            "Epoch 47/60\n",
            "\u001b[1m22/22\u001b[0m \u001b[32m━━━━━━━━━━━━━━━━━━━━\u001b[0m\u001b[37m\u001b[0m \u001b[1m9s\u001b[0m 385ms/step - accuracy: 0.4976 - loss: 2.0002\n",
            "Epoch 48/60\n",
            "\u001b[1m22/22\u001b[0m \u001b[32m━━━━━━━━━━━━━━━━━━━━\u001b[0m\u001b[37m\u001b[0m \u001b[1m10s\u001b[0m 386ms/step - accuracy: 0.4890 - loss: 1.9780\n",
            "Epoch 49/60\n",
            "\u001b[1m22/22\u001b[0m \u001b[32m━━━━━━━━━━━━━━━━━━━━\u001b[0m\u001b[37m\u001b[0m \u001b[1m12s\u001b[0m 435ms/step - accuracy: 0.5417 - loss: 1.8599\n",
            "Epoch 50/60\n",
            "\u001b[1m22/22\u001b[0m \u001b[32m━━━━━━━━━━━━━━━━━━━━\u001b[0m\u001b[37m\u001b[0m \u001b[1m10s\u001b[0m 458ms/step - accuracy: 0.5528 - loss: 1.8025\n",
            "Epoch 51/60\n",
            "\u001b[1m22/22\u001b[0m \u001b[32m━━━━━━━━━━━━━━━━━━━━\u001b[0m\u001b[37m\u001b[0m \u001b[1m10s\u001b[0m 453ms/step - accuracy: 0.5594 - loss: 1.8247\n",
            "Epoch 52/60\n",
            "\u001b[1m22/22\u001b[0m \u001b[32m━━━━━━━━━━━━━━━━━━━━\u001b[0m\u001b[37m\u001b[0m \u001b[1m9s\u001b[0m 384ms/step - accuracy: 0.5558 - loss: 1.7455\n",
            "Epoch 53/60\n",
            "\u001b[1m22/22\u001b[0m \u001b[32m━━━━━━━━━━━━━━━━━━━━\u001b[0m\u001b[37m\u001b[0m \u001b[1m12s\u001b[0m 530ms/step - accuracy: 0.5668 - loss: 1.7589\n",
            "Epoch 54/60\n",
            "\u001b[1m22/22\u001b[0m \u001b[32m━━━━━━━━━━━━━━━━━━━━\u001b[0m\u001b[37m\u001b[0m \u001b[1m17s\u001b[0m 383ms/step - accuracy: 0.6172 - loss: 1.6587\n",
            "Epoch 55/60\n",
            "\u001b[1m22/22\u001b[0m \u001b[32m━━━━━━━━━━━━━━━━━━━━\u001b[0m\u001b[37m\u001b[0m \u001b[1m10s\u001b[0m 445ms/step - accuracy: 0.5858 - loss: 1.6598\n",
            "Epoch 56/60\n",
            "\u001b[1m22/22\u001b[0m \u001b[32m━━━━━━━━━━━━━━━━━━━━\u001b[0m\u001b[37m\u001b[0m \u001b[1m10s\u001b[0m 461ms/step - accuracy: 0.6276 - loss: 1.5793\n",
            "Epoch 57/60\n",
            "\u001b[1m22/22\u001b[0m \u001b[32m━━━━━━━━━━━━━━━━━━━━\u001b[0m\u001b[37m\u001b[0m \u001b[1m9s\u001b[0m 420ms/step - accuracy: 0.6327 - loss: 1.5460\n",
            "Epoch 58/60\n",
            "\u001b[1m22/22\u001b[0m \u001b[32m━━━━━━━━━━━━━━━━━━━━\u001b[0m\u001b[37m\u001b[0m \u001b[1m9s\u001b[0m 383ms/step - accuracy: 0.6283 - loss: 1.5369\n",
            "Epoch 59/60\n",
            "\u001b[1m22/22\u001b[0m \u001b[32m━━━━━━━━━━━━━━━━━━━━\u001b[0m\u001b[37m\u001b[0m \u001b[1m11s\u001b[0m 430ms/step - accuracy: 0.6371 - loss: 1.5679\n",
            "Epoch 60/60\n",
            "\u001b[1m22/22\u001b[0m \u001b[32m━━━━━━━━━━━━━━━━━━━━\u001b[0m\u001b[37m\u001b[0m \u001b[1m10s\u001b[0m 450ms/step - accuracy: 0.6318 - loss: 1.4833\n"
          ]
        },
        {
          "output_type": "execute_result",
          "data": {
            "text/plain": [
              "<keras.src.callbacks.history.History at 0x7e1bfb6a9c90>"
            ]
          },
          "metadata": {},
          "execution_count": 7
        }
      ]
    },
    {
      "cell_type": "markdown",
      "source": [
        "## **Prediction of Next Word**"
      ],
      "metadata": {
        "id": "3l1wp5i3X7Qs"
      }
    },
    {
      "cell_type": "code",
      "source": [
        "def predict_next_word(seed_text, next_words=2):\n",
        "    for _ in range(next_words):\n",
        "        token_list = tokenizer.texts_to_sequences([seed_text])[0]\n",
        "\n",
        "        token_list = pad_sequences([token_list], maxlen=max_sequence_len-1, padding='pre')\n",
        "\n",
        "        predicted = model.predict(token_list, verbose=0)\n",
        "\n",
        "        predicted_word_index = np.argmax(predicted, axis=-1)[0]\n",
        "\n",
        "        predicted_word = tokenizer.index_word[predicted_word_index]\n",
        "\n",
        "        seed_text += \" \" + predicted_word\n",
        "\n",
        "    return seed_text\n"
      ],
      "metadata": {
        "id": "Yiltbof-XX3J"
      },
      "execution_count": 17,
      "outputs": []
    },
    {
      "cell_type": "code",
      "source": [
        "print(predict_next_word(\"Machine\"))"
      ],
      "metadata": {
        "colab": {
          "base_uri": "https://localhost:8080/"
        },
        "id": "OJ_8jkWNXX0f",
        "outputId": "a5337170-837a-44f8-c3a5-6eed1593c9f7"
      },
      "execution_count": 18,
      "outputs": [
        {
          "output_type": "stream",
          "name": "stdout",
          "text": [
            "Machine learning can\n"
          ]
        }
      ]
    }
  ]
}